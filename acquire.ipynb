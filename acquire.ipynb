{
 "cells": [
  {
   "cell_type": "code",
   "execution_count": 1,
   "metadata": {},
   "outputs": [],
   "source": [
    "from requests import get\n",
    "from bs4 import BeautifulSoup\n",
    "import pandas as pd\n",
    "import os"
   ]
  },
  {
   "cell_type": "markdown",
   "metadata": {},
   "source": [
    "1. Codeup Blog Articles\n",
    "\n",
    "Scrape the article text from the following pages:\n",
    "\n",
    "- https://codeup.com/codeups-data-science-career-accelerator-is-here/\n",
    "- https://codeup.com/data-science-myths/\n",
    "- https://codeup.com/data-science-vs-data-analytics-whats-the-difference/\n",
    "- https://codeup.com/10-tips-to-crush-it-at-the-sa-tech-job-fair/\n",
    "- https://codeup.com/competitor-bootcamps-are-closing-is-the-model-in-danger/\n",
    "\n",
    "Encapsulate your work in a function named get_blog_articles that will return a list of dictionaries, with each dictionary representing one article. The shape of each dictionary should look like this:\n",
    "\n",
    "{\n",
    "    'title': 'the title of the article',\n",
    "    'content': 'the full text content of the article'\n",
    "}"
   ]
  },
  {
   "cell_type": "code",
   "execution_count": 2,
   "metadata": {},
   "outputs": [],
   "source": [
    "url = \"https://codeup.com/codeups-data-science-career-accelerator-is-here/\"\n",
    "headers = {'User-Agent': 'Codeup Data Science'}\n",
    "response = get(url, headers=headers)"
   ]
  },
  {
   "cell_type": "code",
   "execution_count": 3,
   "metadata": {},
   "outputs": [
    {
     "data": {
      "text/plain": [
       "'<!DOCTYPE html><html lang=\"en-US\"><head ><meta charset=\"UTF-8\" /><meta name=\"viewport\" content=\"width'"
      ]
     },
     "execution_count": 3,
     "metadata": {},
     "output_type": "execute_result"
    }
   ],
   "source": [
    "response.text[:101]"
   ]
  },
  {
   "cell_type": "code",
   "execution_count": 4,
   "metadata": {},
   "outputs": [],
   "source": [
    "soup = BeautifulSoup(response.content, \"html.parser\")"
   ]
  },
  {
   "cell_type": "code",
   "execution_count": 5,
   "metadata": {},
   "outputs": [
    {
     "data": {
      "text/plain": [
       "<title>Codeup’s Data Science Career Accelerator is Here! - Codeup</title>"
      ]
     },
     "execution_count": 5,
     "metadata": {},
     "output_type": "execute_result"
    }
   ],
   "source": [
    "soup.title"
   ]
  },
  {
   "cell_type": "code",
   "execution_count": 6,
   "metadata": {},
   "outputs": [
    {
     "data": {
      "text/plain": [
       "'Codeup’s Data Science Career Accelerator is Here!Posted on September 30, 2018In San AntonioThe rumors are true! The time has arrived. Codeup has officially opened applications to our new Data Science career accelerator, with only 25 seats available! This immersive program is one of a kind in San Antonio, and will help you land a job in\\xa0Glassdoor’s #1 Best Job in America.Data Science is a method of providing actionable intelligence from data.\\xa0The data revolution has hit San Antonio,\\xa0resulting in an explosion in Data Scientist positions\\xa0across companies like USAA, Accenture, Booz Allen Hamilton, and HEB. We’ve even seen\\xa0UTSA invest $70 M for a Cybersecurity Center and School of Data Science.\\xa0We built a program to specifically meet the growing demands of this industry.Our program will be 18 weeks long, full-time, hands-on, and project-based. Our curriculum development and instruction is led by Senior Data Scientist, Maggie Giust, who has worked at HEB, Capital Group, and Rackspace, along with input from dozens of practitioners and hiring partners. Students will work with real data sets, realistic problems, and the entire data science pipeline from collection to deployment. They will receive professional development training in resume writing, interviewing, and continuing education to prepare for a smooth transition to the workforce.We focus on applied data science for immediate impact and ROI in a business, which is how we can back it all up with a 6 month tuition refund guarantee – just like our existing Web Dev program. We’re focusing on Data Science with Python, SQL, and ML, covered in\\xa014 modules: 1) Fundamentals; 2) Applied statistics; 3) SQL; 4) Python; 5) Supervised machine learning – regression; 6) Supervised machine learning – classification; 7) Unsupervised machine learning – clustering; 8) Time series analysis; 9) Anomaly detection; 10) Natural language processing; 11) Distributed machine learning; 12) Advanced topics (deep learning, NoSQL, cloud deployment, etc.); 13) Storytelling with data; and 14) Domain expertise development.Applications are now open\\xa0for Codeup’s first Data Science cohort, which will start class on February 4, 2019. Hurry – there are only 25 seats available! To further our mission of cultivating inclusive growth, scholarships will be available to women, minorities, LGBTQIA+ individuals, veterans, first responders, and people relocating to San Antonio.If you want to learn about joining our program or hiring our graduates, email datascience@codeup.com!FacebookTwitterLinkedIn'"
      ]
     },
     "execution_count": 6,
     "metadata": {},
     "output_type": "execute_result"
    }
   ],
   "source": [
    "soup.article.text"
   ]
  },
  {
   "cell_type": "code",
   "execution_count": 7,
   "metadata": {},
   "outputs": [],
   "source": [
    "article = soup.find('div', itemprop='text').text"
   ]
  },
  {
   "cell_type": "code",
   "execution_count": 8,
   "metadata": {},
   "outputs": [],
   "source": [
    "articles = {\"title\": soup.title.text, \"content\": soup.find('div', itemprop='text').text}"
   ]
  },
  {
   "cell_type": "code",
   "execution_count": 9,
   "metadata": {},
   "outputs": [
    {
     "data": {
      "text/plain": [
       "{'title': 'Codeup’s Data Science Career Accelerator is Here! - Codeup',\n",
       " 'content': 'The rumors are true! The time has arrived. Codeup has officially opened applications to our new Data Science career accelerator, with only 25 seats available! This immersive program is one of a kind in San Antonio, and will help you land a job in\\xa0Glassdoor’s #1 Best Job in America.Data Science is a method of providing actionable intelligence from data.\\xa0The data revolution has hit San Antonio,\\xa0resulting in an explosion in Data Scientist positions\\xa0across companies like USAA, Accenture, Booz Allen Hamilton, and HEB. We’ve even seen\\xa0UTSA invest $70 M for a Cybersecurity Center and School of Data Science.\\xa0We built a program to specifically meet the growing demands of this industry.Our program will be 18 weeks long, full-time, hands-on, and project-based. Our curriculum development and instruction is led by Senior Data Scientist, Maggie Giust, who has worked at HEB, Capital Group, and Rackspace, along with input from dozens of practitioners and hiring partners. Students will work with real data sets, realistic problems, and the entire data science pipeline from collection to deployment. They will receive professional development training in resume writing, interviewing, and continuing education to prepare for a smooth transition to the workforce.We focus on applied data science for immediate impact and ROI in a business, which is how we can back it all up with a 6 month tuition refund guarantee – just like our existing Web Dev program. We’re focusing on Data Science with Python, SQL, and ML, covered in\\xa014 modules: 1) Fundamentals; 2) Applied statistics; 3) SQL; 4) Python; 5) Supervised machine learning – regression; 6) Supervised machine learning – classification; 7) Unsupervised machine learning – clustering; 8) Time series analysis; 9) Anomaly detection; 10) Natural language processing; 11) Distributed machine learning; 12) Advanced topics (deep learning, NoSQL, cloud deployment, etc.); 13) Storytelling with data; and 14) Domain expertise development.Applications are now open\\xa0for Codeup’s first Data Science cohort, which will start class on February 4, 2019. Hurry – there are only 25 seats available! To further our mission of cultivating inclusive growth, scholarships will be available to women, minorities, LGBTQIA+ individuals, veterans, first responders, and people relocating to San Antonio.If you want to learn about joining our program or hiring our graduates, email datascience@codeup.com!'}"
      ]
     },
     "execution_count": 9,
     "metadata": {},
     "output_type": "execute_result"
    }
   ],
   "source": [
    "articles"
   ]
  },
  {
   "cell_type": "code",
   "execution_count": 10,
   "metadata": {},
   "outputs": [],
   "source": [
    "urls = [\"https://codeup.com/codeups-data-science-career-accelerator-is-here/\",\n",
    "       \"https://codeup.com/data-science-myths/\",\n",
    "       \"https://codeup.com/data-science-vs-data-analytics-whats-the-difference/\",\n",
    "       \"https://codeup.com/10-tips-to-crush-it-at-the-sa-tech-job-fair/\",\n",
    "       \"https://codeup.com/competitor-bootcamps-are-closing-is-the-model-in-danger/\"]\n",
    "headers = {'User-Agent': 'Codeup Data Science'}"
   ]
  },
  {
   "cell_type": "code",
   "execution_count": 11,
   "metadata": {},
   "outputs": [],
   "source": [
    "def get_article_title(url):\n",
    "    headers = {'User-Agent': 'Codeup Data Science'}\n",
    "    response = get(url, headers=headers)\n",
    "    soup = BeautifulSoup(response.content, \"html.parser\")\n",
    "    title = soup.title.text\n",
    "    return title"
   ]
  },
  {
   "cell_type": "code",
   "execution_count": 12,
   "metadata": {},
   "outputs": [
    {
     "name": "stdout",
     "output_type": "stream",
     "text": [
      "Codeup’s Data Science Career Accelerator is Here! - Codeup\n",
      "Data Science Myths - Codeup\n",
      "Data Science VS Data Analytics: What’s The Difference? - Codeup\n",
      "10 Tips to Crush It at the SA Tech Job Fair - Codeup\n",
      "Competitor Bootcamps Are Closing. Is the Model in Danger? - Codeup\n"
     ]
    }
   ],
   "source": [
    "for url in urls:\n",
    "    print(get_article_title(url))"
   ]
  },
  {
   "cell_type": "code",
   "execution_count": 13,
   "metadata": {},
   "outputs": [],
   "source": [
    "def get_article_body(url):\n",
    "    headers = {'User-Agent': 'Codeup Data Science'}\n",
    "    response = get(url, headers=headers)\n",
    "    soup = BeautifulSoup(response.content, \"html.parser\")    \n",
    "    return soup.find('div', itemprop='text').text"
   ]
  },
  {
   "cell_type": "code",
   "execution_count": 14,
   "metadata": {},
   "outputs": [
    {
     "data": {
      "text/plain": [
       "'By Dimitri AntoniouA week ago, Codeup launched our immersive Data Science career accelerator! With our first class kicking off in February and only 25 seats available, we’ve been answering a lot of questions from prospective students. One in particular has come up so many times we decided to dedicate a blog post to it. What is the difference between data science and data analytics?First, let’s define some of our terms! Take a look at this blog to understand what Data Science is. In short, it is a method of turning raw data into action, leading to a desired outcome. Big Data refers to data sets that are large and complex, usually exceeding the capacity of computers and normal processing power to deal with. Machine Learning is the process of ‘learning’ underlying patterns of data in order to automate the extraction of intelligence from that data.Now, let’s look at the data pipeline that data scientists work through to reach the actionable insights and outcomes we mentioned:We start by collecting data, which may come from social media channels, network logs, financials, employee records, or more.We then process that data into usable information stored in databases or streamed.Next, we look back on the history of that data to summarize, describe, and explain, turning the data into meaningful knowledge. Here we’re primarily using mathematics, statistics, and visualization methods.Now we convert that knowledge into intelligence, seeking to predict future events so that we can make decisions in the present. This is where practitioners will introduce mathematical/statistical modeling through machine learning to their data.Finally, we enable action by building automations, running tests, building visualizations, monitoring new data, etc.Data professionals work at different stages of the spectrum to move data through the pipeline. On the left, Big Data Engineers specialize in collecting, storing, and processing data, getting it from Data to Information. In the middle, analysts work to understand and convert that information to knowledge. Lastly, a Machine Learning Engineer utilizes machine learning algorithms to turn intelligence into action by building automations, visualizations, recommendations, and predictions.Data Scientists span multiple stages of this pipeline, from information to action. They will spend about 70% of their time wrangling data in the information stage. They will conduct statistical analysis to derive knowledge. Lastly, they predict future events and build automations using machine learning.For those technical folk out there, data science is to data engineering or machine learning engineering as full-stack development is to front-end or back-end development. For the non-technical folk, data science is the umbrella term that houses data analytics, machine learning, and other data professions.So what’s the biggest difference between a data analyst and a data scientist? Data scientists utilize computer programming and machine learning in addition to mathematics and statistics. Still have questions? Reach out to us at (210) 802-7289 or DataScience@codeup.com! Wondering which of Codeup’s programs is right for you? We’ve got you covered. And of course, if data science gets you excited, get started with us today at tribucodeup.wpengine.com/apply!'"
      ]
     },
     "execution_count": 14,
     "metadata": {},
     "output_type": "execute_result"
    }
   ],
   "source": [
    "get_article_body(\"https://codeup.com/data-science-vs-data-analytics-whats-the-difference/\")"
   ]
  },
  {
   "cell_type": "code",
   "execution_count": 15,
   "metadata": {},
   "outputs": [],
   "source": [
    "def get_article_dictionary(url):\n",
    "    articles = {\"title\": get_article_title(url), \"content\": get_article_body(url)}\n",
    "    return articles"
   ]
  },
  {
   "cell_type": "code",
   "execution_count": 16,
   "metadata": {},
   "outputs": [
    {
     "data": {
      "text/plain": [
       "{'title': 'Data Science VS Data Analytics: What’s The Difference? - Codeup',\n",
       " 'content': 'By Dimitri AntoniouA week ago, Codeup launched our immersive Data Science career accelerator! With our first class kicking off in February and only 25 seats available, we’ve been answering a lot of questions from prospective students. One in particular has come up so many times we decided to dedicate a blog post to it. What is the difference between data science and data analytics?First, let’s define some of our terms! Take a look at this blog to understand what Data Science is. In short, it is a method of turning raw data into action, leading to a desired outcome. Big Data refers to data sets that are large and complex, usually exceeding the capacity of computers and normal processing power to deal with. Machine Learning is the process of ‘learning’ underlying patterns of data in order to automate the extraction of intelligence from that data.Now, let’s look at the data pipeline that data scientists work through to reach the actionable insights and outcomes we mentioned:We start by collecting data, which may come from social media channels, network logs, financials, employee records, or more.We then process that data into usable information stored in databases or streamed.Next, we look back on the history of that data to summarize, describe, and explain, turning the data into meaningful knowledge. Here we’re primarily using mathematics, statistics, and visualization methods.Now we convert that knowledge into intelligence, seeking to predict future events so that we can make decisions in the present. This is where practitioners will introduce mathematical/statistical modeling through machine learning to their data.Finally, we enable action by building automations, running tests, building visualizations, monitoring new data, etc.Data professionals work at different stages of the spectrum to move data through the pipeline. On the left, Big Data Engineers specialize in collecting, storing, and processing data, getting it from Data to Information. In the middle, analysts work to understand and convert that information to knowledge. Lastly, a Machine Learning Engineer utilizes machine learning algorithms to turn intelligence into action by building automations, visualizations, recommendations, and predictions.Data Scientists span multiple stages of this pipeline, from information to action. They will spend about 70% of their time wrangling data in the information stage. They will conduct statistical analysis to derive knowledge. Lastly, they predict future events and build automations using machine learning.For those technical folk out there, data science is to data engineering or machine learning engineering as full-stack development is to front-end or back-end development. For the non-technical folk, data science is the umbrella term that houses data analytics, machine learning, and other data professions.So what’s the biggest difference between a data analyst and a data scientist? Data scientists utilize computer programming and machine learning in addition to mathematics and statistics. Still have questions? Reach out to us at (210) 802-7289 or DataScience@codeup.com! Wondering which of Codeup’s programs is right for you? We’ve got you covered. And of course, if data science gets you excited, get started with us today at tribucodeup.wpengine.com/apply!'}"
      ]
     },
     "execution_count": 16,
     "metadata": {},
     "output_type": "execute_result"
    }
   ],
   "source": [
    "get_article_dictionary(\"https://codeup.com/data-science-vs-data-analytics-whats-the-difference/\")"
   ]
  },
  {
   "cell_type": "code",
   "execution_count": 17,
   "metadata": {},
   "outputs": [],
   "source": [
    "article_dict = []\n",
    "for url in urls:\n",
    "    article_dict.append(get_article_dictionary(url))"
   ]
  },
  {
   "cell_type": "code",
   "execution_count": 18,
   "metadata": {},
   "outputs": [
    {
     "data": {
      "text/plain": [
       "[{'title': 'Codeup’s Data Science Career Accelerator is Here! - Codeup',\n",
       "  'content': 'The rumors are true! The time has arrived. Codeup has officially opened applications to our new Data Science career accelerator, with only 25 seats available! This immersive program is one of a kind in San Antonio, and will help you land a job in\\xa0Glassdoor’s #1 Best Job in America.Data Science is a method of providing actionable intelligence from data.\\xa0The data revolution has hit San Antonio,\\xa0resulting in an explosion in Data Scientist positions\\xa0across companies like USAA, Accenture, Booz Allen Hamilton, and HEB. We’ve even seen\\xa0UTSA invest $70 M for a Cybersecurity Center and School of Data Science.\\xa0We built a program to specifically meet the growing demands of this industry.Our program will be 18 weeks long, full-time, hands-on, and project-based. Our curriculum development and instruction is led by Senior Data Scientist, Maggie Giust, who has worked at HEB, Capital Group, and Rackspace, along with input from dozens of practitioners and hiring partners. Students will work with real data sets, realistic problems, and the entire data science pipeline from collection to deployment. They will receive professional development training in resume writing, interviewing, and continuing education to prepare for a smooth transition to the workforce.We focus on applied data science for immediate impact and ROI in a business, which is how we can back it all up with a 6 month tuition refund guarantee – just like our existing Web Dev program. We’re focusing on Data Science with Python, SQL, and ML, covered in\\xa014 modules: 1) Fundamentals; 2) Applied statistics; 3) SQL; 4) Python; 5) Supervised machine learning – regression; 6) Supervised machine learning – classification; 7) Unsupervised machine learning – clustering; 8) Time series analysis; 9) Anomaly detection; 10) Natural language processing; 11) Distributed machine learning; 12) Advanced topics (deep learning, NoSQL, cloud deployment, etc.); 13) Storytelling with data; and 14) Domain expertise development.Applications are now open\\xa0for Codeup’s first Data Science cohort, which will start class on February 4, 2019. Hurry – there are only 25 seats available! To further our mission of cultivating inclusive growth, scholarships will be available to women, minorities, LGBTQIA+ individuals, veterans, first responders, and people relocating to San Antonio.If you want to learn about joining our program or hiring our graduates, email datascience@codeup.com!'},\n",
       " {'title': 'Data Science Myths - Codeup',\n",
       "  'content': 'By Dimitri Antoniou and Maggie GiustData Science, Big Data, Machine Learning, NLP, Neural Networks…these buzzwords have rapidly spread into mainstream use over the last few years. Unfortunately, definitions are varied and sources of truth are limited. Data Scientists are in fact not magical unicorn wizards who can snap their fingers and turn a business around! Today, we’ll take a cue from our favorite Mythbusters to tackle some common myths and misconceptions in the field of Data Science.via GIPHYMyth #1: Data Science = StatisticsAt first glance, this one doesn’t sound unreasonable. Statistics is defined as, “A branch of mathematics dealing with the collection, analysis, interpretation, and presentation of masses of numerical data.” That sounds a lot like our definition of Data Science: a method of drawing actionable intelligence from data. In truth, statistics is actually one small piece of Data Science. As our Senior Data Scientist puts it, “Statistics forces us to make assumptions about the nature of the relationship between variables, the distribution of the data, etc.” In the traditional Data Science venn diagram, you’ll see that math/stats make up ⅓ of a working professional. These are tools and skills to leverage, but data science itself is about drawing intelligence from data.BUSTED via GIPHY\\xa0Myth #2: Data Scientist = Business/Data AnalystThis one is so common that we wrote a whole post about it! These are separate and different roles within the data field. While a data scientist will often do analytics, their spectrum of work is wider. A data analyst will use structured data to create dashboards and KPIs, while a Data Scientist deals with unstructured and messy data for a range of outputs. If they’re interested, business analysts will often progress to data scientists.BUSTEDvia GIPHY\\xa0Myth #3: Data Science = Data ScienceThis one’s tricky, because it’s impossible to either confirm or bust! The ‘myth’ is that one person or company using the term Data Science is not necessarily the same as another person or company using the same term. Depending on organizational capacity, individual experience, educational background, and many other variables, we might be using the same name for different animals.Tl;dr: don’t assume a common understanding across hiring managers, recruiters, and practitioners. Look instead for specifics of tools, techniques, methodologies, and outputs. That being said, this one falls in the “plausible” category, because it may actually be true in some circumstances, while false in others.PLAUSIBLEvia GIPHY\\xa0Myth #4: Data Science curricula are well-defined and consistent.We recommend checking this one out for yourself! A quick google search for bootcamps, master’s degree programs, and online courses will reveal that different organizations teach different things. There is no commonly accepted framework for teaching data science! Some focus more on the engineering, others focus more on machine learning, some think deep learning is foundational, and some prefer to use R. Our curriculum was built through employer interviews, practitioner interviews, market research, and company partnerships. But we’re based in San Antonio! A bootcamp in New York might follow the same process and end up with a different syllabus. Keep in mind, whatever your learning path, that there will be gaps in your learning. The most important thing is to recognize those gaps.BUSTEDvia GIPHY\\xa0Myth #5: If I want to be a data scientist, I just need to learn Python or R.This one is common and dangerous! Just like statistics, programming languages like Python and R are tools. They’re just pieces of a larger puzzle! Knowing Python without understanding the data science pipeline is like knowing how to build a floor without having a floor plan. Of course, these are valuable technical skills that give you a leg up, but they’re second in importance to asking the right questions, knowing what tools to use when, and communicating your findings.BUSTEDvia GIPHYStill have questions? Reach out to us at (210) 802-7289 or DataScience@codeup.com! Want to learn more about Data Science? Check out our recent blog posts at tribucodeup.wpengine.com/blog. And of course, if data science gets you excited, get started with us today at tribucodeup.wpengine.com/apply![rev_slider alias=”footer”][/rev_slider]'},\n",
       " {'title': 'Data Science VS Data Analytics: What’s The Difference? - Codeup',\n",
       "  'content': 'By Dimitri AntoniouA week ago, Codeup launched our immersive Data Science career accelerator! With our first class kicking off in February and only 25 seats available, we’ve been answering a lot of questions from prospective students. One in particular has come up so many times we decided to dedicate a blog post to it. What is the difference between data science and data analytics?First, let’s define some of our terms! Take a look at this blog to understand what Data Science is. In short, it is a method of turning raw data into action, leading to a desired outcome. Big Data refers to data sets that are large and complex, usually exceeding the capacity of computers and normal processing power to deal with. Machine Learning is the process of ‘learning’ underlying patterns of data in order to automate the extraction of intelligence from that data.Now, let’s look at the data pipeline that data scientists work through to reach the actionable insights and outcomes we mentioned:We start by collecting data, which may come from social media channels, network logs, financials, employee records, or more.We then process that data into usable information stored in databases or streamed.Next, we look back on the history of that data to summarize, describe, and explain, turning the data into meaningful knowledge. Here we’re primarily using mathematics, statistics, and visualization methods.Now we convert that knowledge into intelligence, seeking to predict future events so that we can make decisions in the present. This is where practitioners will introduce mathematical/statistical modeling through machine learning to their data.Finally, we enable action by building automations, running tests, building visualizations, monitoring new data, etc.Data professionals work at different stages of the spectrum to move data through the pipeline. On the left, Big Data Engineers specialize in collecting, storing, and processing data, getting it from Data to Information. In the middle, analysts work to understand and convert that information to knowledge. Lastly, a Machine Learning Engineer utilizes machine learning algorithms to turn intelligence into action by building automations, visualizations, recommendations, and predictions.Data Scientists span multiple stages of this pipeline, from information to action. They will spend about 70% of their time wrangling data in the information stage. They will conduct statistical analysis to derive knowledge. Lastly, they predict future events and build automations using machine learning.For those technical folk out there, data science is to data engineering or machine learning engineering as full-stack development is to front-end or back-end development. For the non-technical folk, data science is the umbrella term that houses data analytics, machine learning, and other data professions.So what’s the biggest difference between a data analyst and a data scientist? Data scientists utilize computer programming and machine learning in addition to mathematics and statistics. Still have questions? Reach out to us at (210) 802-7289 or DataScience@codeup.com! Wondering which of Codeup’s programs is right for you? We’ve got you covered. And of course, if data science gets you excited, get started with us today at tribucodeup.wpengine.com/apply!'},\n",
       " {'title': '10 Tips to Crush It at the SA Tech Job Fair - Codeup',\n",
       "  'content': '10 Tips to Crush It at the SA Tech Job FairSA Tech Job FairThe third bi-annual San Antonio Tech Job Fair is just around the corner. Over 25 companies will be at The Jack Guenther Pavilion\\xa0on April 10th, and they are hungry for new tech team members!At the job fair, companies want to quickly source a list of new talent leads. AKA they need to find qualified employees they can begin interviewing for jobs. Recruiters will represent their organization at tables with informational handouts and company swag. Your goal at a job fair is to set yourself apart from other candidates and ensure your name makes it to the top of those lead lists.Think of your interaction with the company as a mini screening interview. The company rep will subtly evaluate basic qualities like your professionalism, communication and interpersonal skills, work experience, and interest level in the organization. Job fairs are also an opportunity for you to gain information about companies that may not be easily accessible online. \\xa0At Codeup, we’re passionate about bridging the gap between talent and demand, so we’ve outlined 10 tips to ensure you bring your A-game and leave a lasting impression!10 Tips for Totally Crushing it at the SA Tech Job FairUse keywords to describe your skills, but don’t go overboard. You’ll probably be talking to a recruiter or talent acquisition specialist. As a technical candidate, recognize these individuals usually aren’t developers or network administrators. They know terms like “JavaScript” and “Apache,” but haven’t written a line of code or spun up a server, so don’t get too caught up in industry jargon.Research the companies ahead of time. Review the list of attending companies and make sure you know what the company does and whether or not they hire people in your desired role. Look up recent news on the company and mention it during your conversation.Define your own goals for the job fair. Are you searching for a specific type of role or company culture? What matters most in your job search? Are there companies you want to prioritize? \\xa0Develop a game plan and be intentional with your time.Prepare a stellar résumé. Bring about 20 copies of your résumé to the event, printed on nice paper. We won’t cover resume writing in this post, but there are a plethora of online resources you can consult. For job fairs, don’t worry about cover letters.Polish your online profiles. If recruiters have a copy of your resume, you can be sure they will stalk you online soon. Make sure your online presence is professional and appropriate. A good place to start is by Googling yourself. Update your LinkedIn, and clean up any social media profiles.Craft a 30-60 second elevator pitch. You may only have a few minutes with an employer. What will you say if they ask, “Tell me about yourself?” Consider structuring your pitch like this: Who you are + What you do + What your goals are + Why that matters to the company.Don’t show up in a t-shirt, but trade in your suit for something more chill. Always keep it professional, but remember: tech is typically more casual than other industries. You’ll likely feel out of place if you look like you belong on Wall St., so refer to this guide on dressing for tech interviews.Don’t forget the basics. Start and end each conversation with a firm handshake. Make eye contact while conversing. Smile! Thank the recruiter before you move on to the next table.Ask educated questions. Don’t waste valuable face time with recruiters by asking questions like, “What does [Insert Company here] do?” They hate that question! Instead, try some of these:What are the top 3-5 examples of knowledge, skills, and abilities you look for in candidates?What’s the best advice you have for someone who wants to work here?What is your interview process like?Are you hiring for any roles not currently listed on your websites?Follow up. Collect business cards from each table. The next day, send a short note expressing your interest in the company’s opportunities and thanking the recruiter for his or her time.RSVP for the SA Tech Job Fair taking place at the Jack Guenther Pavilion – September 18th starting at 4 pm.\\xa0'},\n",
       " {'title': 'Competitor Bootcamps Are Closing. Is the Model in Danger? - Codeup',\n",
       "  'content': 'Competitor Bootcamps Are Closing. Is the Model in Danger?\\xa0Is the programming bootcamp model in danger?In recent news, DevBootcamp and The Iron Yard announced that they are closing their doors. This is big news. DevBootcamp was the first programming bootcamp model and The Iron Yard is a national player with 15 campuses across the U.S. In both cases, the companies cited an unsustainable business model. Does that mean the boot-camp model is dead?tl;dr “Nope!”Bootcamps exist because traditional education models have failed to provide students job-ready skills for the 21st century. Students demand better employment options from their education. Employers demand skilled and job ready candidates. Big Education’s failure to meet those needs through traditional methods created the fertile ground for the new business model of the programming bootcamp.Education giant Kaplan and Apollo Education Group (owner of University of Phoenix) bought their way into this new educational model when they purchased The Iron Yard and DevBootcamp. They purchased their competition with the intent to scale up the model. Unfortunately, Big Education is too habituated to coming up short for students. They bought the upstarts that challenged them, tried making changes to run those bootcamps in the “Big Education” way, and, sadly, they’ve closed the doors when they realized that scaling education is more challenging when student outcomes truly matter.The bootcamp model is still new and there will be plenty consolidation, competition, and changes in the future. This model is based on actually being adaptive, innovative, and sustainable. And there’s always room for innovation.What we’ve learned at Codeup…Education is challenging to scale.Prioritizing quality over growth pays off.What we’re doing at Codeup…Higher standards in our application process are leading to better student outcomes.Our reputation and commitment to quality is opening new doors to previously uninterested/unreachable employers.In the beginning, the majority of Codeup graduates went to work with startups and small businesses. We’re now seeing a larger amount of our graduates place at medium to large sized businesses.Demand is growing and employers are learning that the results are in the graduates.Codeup’s model is sustainable, inclusive, and works.Call or contact us today to see how Codeup’s commitment to quality and approach to being a career accelerator can make a profound difference in your life.'}]"
      ]
     },
     "execution_count": 18,
     "metadata": {},
     "output_type": "execute_result"
    }
   ],
   "source": [
    "article_dict"
   ]
  },
  {
   "cell_type": "code",
   "execution_count": 19,
   "metadata": {},
   "outputs": [],
   "source": [
    "df = pd.DataFrame(article_dict)"
   ]
  },
  {
   "cell_type": "code",
   "execution_count": 20,
   "metadata": {},
   "outputs": [],
   "source": [
    "def dataframe_for_codeup_blog(urls):\n",
    "    article_dict = []\n",
    "    for url in urls:\n",
    "        article_dict.append(get_article_dictionary(url))\n",
    "    df = pd.DataFrame(article_dict)\n",
    "    df.to_csv('./codeup_blog_posts.csv')\n",
    "    return df"
   ]
  },
  {
   "cell_type": "code",
   "execution_count": 21,
   "metadata": {},
   "outputs": [
    {
     "data": {
      "text/html": [
       "<div>\n",
       "<style scoped>\n",
       "    .dataframe tbody tr th:only-of-type {\n",
       "        vertical-align: middle;\n",
       "    }\n",
       "\n",
       "    .dataframe tbody tr th {\n",
       "        vertical-align: top;\n",
       "    }\n",
       "\n",
       "    .dataframe thead th {\n",
       "        text-align: right;\n",
       "    }\n",
       "</style>\n",
       "<table border=\"1\" class=\"dataframe\">\n",
       "  <thead>\n",
       "    <tr style=\"text-align: right;\">\n",
       "      <th></th>\n",
       "      <th>title</th>\n",
       "      <th>content</th>\n",
       "    </tr>\n",
       "  </thead>\n",
       "  <tbody>\n",
       "    <tr>\n",
       "      <th>0</th>\n",
       "      <td>Codeup’s Data Science Career Accelerator is He...</td>\n",
       "      <td>The rumors are true! The time has arrived. Cod...</td>\n",
       "    </tr>\n",
       "    <tr>\n",
       "      <th>1</th>\n",
       "      <td>Data Science Myths - Codeup</td>\n",
       "      <td>By Dimitri Antoniou and Maggie GiustData Scien...</td>\n",
       "    </tr>\n",
       "    <tr>\n",
       "      <th>2</th>\n",
       "      <td>Data Science VS Data Analytics: What’s The Dif...</td>\n",
       "      <td>By Dimitri AntoniouA week ago, Codeup launched...</td>\n",
       "    </tr>\n",
       "    <tr>\n",
       "      <th>3</th>\n",
       "      <td>10 Tips to Crush It at the SA Tech Job Fair - ...</td>\n",
       "      <td>10 Tips to Crush It at the SA Tech Job FairSA ...</td>\n",
       "    </tr>\n",
       "    <tr>\n",
       "      <th>4</th>\n",
       "      <td>Competitor Bootcamps Are Closing. Is the Model...</td>\n",
       "      <td>Competitor Bootcamps Are Closing. Is the Model...</td>\n",
       "    </tr>\n",
       "  </tbody>\n",
       "</table>\n",
       "</div>"
      ],
      "text/plain": [
       "                                               title  \\\n",
       "0  Codeup’s Data Science Career Accelerator is He...   \n",
       "1                        Data Science Myths - Codeup   \n",
       "2  Data Science VS Data Analytics: What’s The Dif...   \n",
       "3  10 Tips to Crush It at the SA Tech Job Fair - ...   \n",
       "4  Competitor Bootcamps Are Closing. Is the Model...   \n",
       "\n",
       "                                             content  \n",
       "0  The rumors are true! The time has arrived. Cod...  \n",
       "1  By Dimitri Antoniou and Maggie GiustData Scien...  \n",
       "2  By Dimitri AntoniouA week ago, Codeup launched...  \n",
       "3  10 Tips to Crush It at the SA Tech Job FairSA ...  \n",
       "4  Competitor Bootcamps Are Closing. Is the Model...  "
      ]
     },
     "execution_count": 21,
     "metadata": {},
     "output_type": "execute_result"
    }
   ],
   "source": [
    "dataframe_for_codeup_blog(urls)"
   ]
  },
  {
   "cell_type": "code",
   "execution_count": 22,
   "metadata": {},
   "outputs": [],
   "source": [
    "def get_codeup_blogs():\n",
    "    filename = \"./codeup_blog_posts.csv\"\n",
    "\n",
    "    urls = [\n",
    "        \"https://codeup.com/codeups-data-science-career-accelerator-is-here/\",\n",
    "        \"https://codeup.com/data-science-myths/\",\n",
    "        \"https://codeup.com/data-science-vs-data-analytics-whats-the-difference/\",\n",
    "        \"https://codeup.com/10-tips-to-crush-it-at-the-sa-tech-job-fair/\",\n",
    "        \"https://codeup.com/competitor-bootcamps-are-closing-is-the-model-in-danger/\",]\n",
    "    if os.path.exists(filename):\n",
    "        return pd.read_csv(filename)\n",
    "    else:\n",
    "        return dataframe_for_codeup_blog(urls)"
   ]
  },
  {
   "cell_type": "code",
   "execution_count": 23,
   "metadata": {},
   "outputs": [
    {
     "data": {
      "text/html": [
       "<div>\n",
       "<style scoped>\n",
       "    .dataframe tbody tr th:only-of-type {\n",
       "        vertical-align: middle;\n",
       "    }\n",
       "\n",
       "    .dataframe tbody tr th {\n",
       "        vertical-align: top;\n",
       "    }\n",
       "\n",
       "    .dataframe thead th {\n",
       "        text-align: right;\n",
       "    }\n",
       "</style>\n",
       "<table border=\"1\" class=\"dataframe\">\n",
       "  <thead>\n",
       "    <tr style=\"text-align: right;\">\n",
       "      <th></th>\n",
       "      <th>Unnamed: 0</th>\n",
       "      <th>title</th>\n",
       "      <th>content</th>\n",
       "    </tr>\n",
       "  </thead>\n",
       "  <tbody>\n",
       "    <tr>\n",
       "      <th>0</th>\n",
       "      <td>0</td>\n",
       "      <td>Codeup’s Data Science Career Accelerator is He...</td>\n",
       "      <td>The rumors are true! The time has arrived. Cod...</td>\n",
       "    </tr>\n",
       "    <tr>\n",
       "      <th>1</th>\n",
       "      <td>1</td>\n",
       "      <td>Data Science Myths - Codeup</td>\n",
       "      <td>By Dimitri Antoniou and Maggie GiustData Scien...</td>\n",
       "    </tr>\n",
       "    <tr>\n",
       "      <th>2</th>\n",
       "      <td>2</td>\n",
       "      <td>Data Science VS Data Analytics: What’s The Dif...</td>\n",
       "      <td>By Dimitri AntoniouA week ago, Codeup launched...</td>\n",
       "    </tr>\n",
       "    <tr>\n",
       "      <th>3</th>\n",
       "      <td>3</td>\n",
       "      <td>10 Tips to Crush It at the SA Tech Job Fair - ...</td>\n",
       "      <td>10 Tips to Crush It at the SA Tech Job FairSA ...</td>\n",
       "    </tr>\n",
       "    <tr>\n",
       "      <th>4</th>\n",
       "      <td>4</td>\n",
       "      <td>Competitor Bootcamps Are Closing. Is the Model...</td>\n",
       "      <td>Competitor Bootcamps Are Closing. Is the Model...</td>\n",
       "    </tr>\n",
       "  </tbody>\n",
       "</table>\n",
       "</div>"
      ],
      "text/plain": [
       "   Unnamed: 0                                              title  \\\n",
       "0           0  Codeup’s Data Science Career Accelerator is He...   \n",
       "1           1                        Data Science Myths - Codeup   \n",
       "2           2  Data Science VS Data Analytics: What’s The Dif...   \n",
       "3           3  10 Tips to Crush It at the SA Tech Job Fair - ...   \n",
       "4           4  Competitor Bootcamps Are Closing. Is the Model...   \n",
       "\n",
       "                                             content  \n",
       "0  The rumors are true! The time has arrived. Cod...  \n",
       "1  By Dimitri Antoniou and Maggie GiustData Scien...  \n",
       "2  By Dimitri AntoniouA week ago, Codeup launched...  \n",
       "3  10 Tips to Crush It at the SA Tech Job FairSA ...  \n",
       "4  Competitor Bootcamps Are Closing. Is the Model...  "
      ]
     },
     "execution_count": 23,
     "metadata": {},
     "output_type": "execute_result"
    }
   ],
   "source": [
    "get_codeup_blogs()"
   ]
  },
  {
   "cell_type": "markdown",
   "metadata": {},
   "source": [
    "2. News Articles\n",
    "\n",
    "We will now be scraping text data from inshorts, a website that provides a brief overview of many different topics.\n",
    "\n",
    "Write a function that scrapes the news articles for the following topics:\n",
    "\n",
    "- Business\n",
    "- Sports\n",
    "- Technology\n",
    "- Entertainment\n",
    "\n",
    "The end product of this should be a function named get_news_articles that returns a list of dictionaries, where each dictionary has this shape:\n",
    "\n",
    "{\n",
    "    'title': 'The article title',\n",
    "    'content': 'The article content',\n",
    "    'category': 'business' # for example\n",
    "}"
   ]
  },
  {
   "cell_type": "code",
   "execution_count": 24,
   "metadata": {},
   "outputs": [],
   "source": [
    "url_base = \"https://inshorts.com/en/read/\""
   ]
  },
  {
   "cell_type": "code",
   "execution_count": 25,
   "metadata": {},
   "outputs": [],
   "source": [
    "site = \"business\""
   ]
  },
  {
   "cell_type": "code",
   "execution_count": 26,
   "metadata": {},
   "outputs": [],
   "source": [
    "new_url = url_base + site"
   ]
  },
  {
   "cell_type": "code",
   "execution_count": 27,
   "metadata": {},
   "outputs": [
    {
     "data": {
      "text/plain": [
       "'https://inshorts.com/en/read/business'"
      ]
     },
     "execution_count": 27,
     "metadata": {},
     "output_type": "execute_result"
    }
   ],
   "source": [
    "new_url"
   ]
  },
  {
   "cell_type": "code",
   "execution_count": 28,
   "metadata": {},
   "outputs": [],
   "source": [
    "headers = {'User-Agent': 'Codeup Data Science'}\n",
    "response = get(url_base + site, headers=headers)"
   ]
  },
  {
   "cell_type": "code",
   "execution_count": 29,
   "metadata": {},
   "outputs": [
    {
     "data": {
      "text/plain": [
       "<Response [200]>"
      ]
     },
     "execution_count": 29,
     "metadata": {},
     "output_type": "execute_result"
    }
   ],
   "source": [
    "response"
   ]
  },
  {
   "cell_type": "code",
   "execution_count": 30,
   "metadata": {},
   "outputs": [],
   "source": [
    "soup = BeautifulSoup(response.content, \"html.parser\")"
   ]
  },
  {
   "cell_type": "code",
   "execution_count": 31,
   "metadata": {},
   "outputs": [
    {
     "data": {
      "text/plain": [
       "'Business News: World and India Business News in English with Inshorts'"
      ]
     },
     "execution_count": 31,
     "metadata": {},
     "output_type": "execute_result"
    }
   ],
   "source": [
    "soup.title.string"
   ]
  },
  {
   "cell_type": "code",
   "execution_count": 32,
   "metadata": {},
   "outputs": [],
   "source": [
    "link = soup.select(\"body > div.container > div > div.card-stack > div:nth-child(1) > div > div.news-card-title.news-right-box\")"
   ]
  },
  {
   "cell_type": "code",
   "execution_count": 33,
   "metadata": {},
   "outputs": [
    {
     "data": {
      "text/plain": [
       "<div class=\"news-card-title news-right-box\">\n",
       "<a class=\"clickable\" href=\"/en/news/indias-economic-growth-seen-at-12-in-q4-fy20-sbi-report-1590496863509\" onclick=\"ga('send', {'hitType': 'event', 'eventCategory': 'TitleOfNews', 'eventAction': 'clicked', 'eventLabel': 'India's%20economic%20growth%20seen%20at%201.2%25%20in%20Q4%20FY20%3A%20SBI%20report)' });\" style=\"color:#44444d!important\">\n",
       "<span itemprop=\"headline\">India's economic growth seen at 1.2% in Q4 FY20: SBI report</span>\n",
       "</a>\n",
       "<div class=\"news-card-author-time news-card-author-time-in-title\">\n",
       "<a href=\"/prev/en/news/indias-economic-growth-seen-at-12-in-q4-fy20-sbi-report-1590496863509\"><span class=\"short\">short</span></a> by <span class=\"author\">Dharna</span> / \n",
       "      <span class=\"time\" content=\"2020-05-26T12:41:03.000Z\" itemprop=\"datePublished\">06:11 pm</span> on <span clas=\"date\">26 May 2020,Tuesday</span>\n",
       "</div>\n",
       "</div>"
      ]
     },
     "execution_count": 33,
     "metadata": {},
     "output_type": "execute_result"
    }
   ],
   "source": [
    "link[0]"
   ]
  },
  {
   "cell_type": "code",
   "execution_count": 34,
   "metadata": {},
   "outputs": [
    {
     "data": {
      "text/plain": [
       "\"\\n\\nIndia's economic growth seen at 1.2% in Q4 FY20: SBI report\\n\\n\\nshort by Dharna / \\n      06:11 pm on 26 May 2020,Tuesday\\n\\n\""
      ]
     },
     "execution_count": 34,
     "metadata": {},
     "output_type": "execute_result"
    }
   ],
   "source": [
    "link[0].text"
   ]
  },
  {
   "cell_type": "code",
   "execution_count": 35,
   "metadata": {},
   "outputs": [],
   "source": [
    "articles = soup.select(\".news-card\")\n"
   ]
  },
  {
   "cell_type": "code",
   "execution_count": 36,
   "metadata": {},
   "outputs": [],
   "source": [
    "def get_articles_from_topic(url):\n",
    "    headers = {'User-Agent': 'Codeup Data Science'}\n",
    "    response = get(url, headers=headers)\n",
    "    soup = BeautifulSoup(response.content, 'html.parser')\n",
    "\n",
    "    output = []\n",
    "\n",
    "    articles = soup.select(\".news-card\")\n",
    "\n",
    "    for article in articles: \n",
    "        title = article.select(\"[itemprop='headline']\")[0].get_text()\n",
    "        body = article.select(\"[itemprop='articleBody']\")[0].get_text()\n",
    "        author = article.select(\".author\")[0].get_text()\n",
    "        published_date = article.select(\".time\")[0][\"content\"]\n",
    "        category = response.url.split(\"/\")[-1]\n",
    "\n",
    "        article_data = {\n",
    "            'title': title,\n",
    "            'body': body,\n",
    "            'category': category,\n",
    "            'author': author,\n",
    "            'published_date': published_date,\n",
    "        }\n",
    "        output.append(article_data)\n",
    "\n",
    "\n",
    "    return output"
   ]
  },
  {
   "cell_type": "code",
   "execution_count": 37,
   "metadata": {},
   "outputs": [
    {
     "data": {
      "text/plain": [
       "[{'title': \"India's economic growth seen at 1.2% in Q4 FY20: SBI report\",\n",
       "  'body': \"India's economy is estimated to have grown at 1.2% for the quarter ended March 2020, said the SBI's Ecowrap report. It said the economic activity in the last seven days of March was completely suspended due to lockdown, causing an estimated loss of around ₹1.4 lakh crore. Subsequently, it projected the annual GDP growth for 2019-20 to be around 4.2%.\",\n",
       "  'category': 'business',\n",
       "  'author': 'Dharna',\n",
       "  'published_date': '2020-05-26T12:41:03.000Z'},\n",
       " {'title': 'Glenmark to start clinical trial to test potential COVID-19 drug combination',\n",
       "  'body': 'Glenmark Pharmaceuticals on Tuesday said it will begin a new clinical trial to test a combination of two antiviral drugs, favipiravir and umifenovir, as a potential COVID-19 treatment. The study will look to enrol 158 hospitalised patients suffering from moderate COVID-19 infections in India. Glenmark is already conducting clinical trials of just favipiravir as a potential COVID-19 treatment.',\n",
       "  'category': 'business',\n",
       "  'author': 'Krishna Veera Vanamali',\n",
       "  'published_date': '2020-05-26T11:22:33.000Z'},\n",
       " {'title': 'Uber India fires 600 employees reducing 25% of its workforce',\n",
       "  'body': \"Uber is firing 600 employees in India, or 25% of its workforce in the country, amid the coronavirus pandemic. The layoffs, which are a part of Uber's global restructuring plan that eliminated 6,700 jobs, affect teams across customer and driver support, business development, legal, finance, policy and marketing verticals. Affected staff will be paid 10-12 weeks of salary, Uber said.\",\n",
       "  'category': 'business',\n",
       "  'author': 'Dharna',\n",
       "  'published_date': '2020-05-26T03:35:41.000Z'},\n",
       " {'title': \"TVS Motor cuts employees' salaries by up to 20% for six months\",\n",
       "  'body': 'TVS Motor Company has said it is cutting the salaries of its employees for six months. Starting May, salaries will be reduced by 5% for junior executives, by 15-20% at senior management level and won\\'t be cut at the workmen level. \"It was heartening to see employees coming forward and offering to take salary reduction voluntarily,\" the two-wheeler maker said.',\n",
       "  'category': 'business',\n",
       "  'author': 'Dharna',\n",
       "  'published_date': '2020-05-26T06:55:05.000Z'},\n",
       " {'title': 'Firm whose stock surged 1000% in 2020 starts human trials of Covid-19 vaccine',\n",
       "  'body': \"US biotech company Novavax said it has started Phase 1 clinical trial of its experimental coronavirus vaccine and has enrolled 130 volunteers. Novavax's valuation has surged by over 1,000% this year to about $2.7 billion despite having no products on the market. The trial is being supported by $388 million in funding from the Coalition for Epidemic Preparedness Innovations (CEPI).\",\n",
       "  'category': 'business',\n",
       "  'author': 'Krishna Veera Vanamali',\n",
       "  'published_date': '2020-05-26T10:17:41.000Z'},\n",
       " {'title': \"Lockdown extensions won't help, cases will continue to rise: Anand Mahindra\",\n",
       "  'body': 'Mahindra Group Chairman Anand Mahindra said that \"lockdown extensions won\\'t help\" adding that the \"numbers will continue to rise\" regardless. \"Lockdown extensions aren\\'t just economically disastrous, but also create another medical crisis,\" he tweeted. Mahindra added that the government should focus on the expansion of field hospital beds with oxygen lines instead. ',\n",
       "  'category': 'business',\n",
       "  'author': 'Anushka Dixit',\n",
       "  'published_date': '2020-05-25T15:08:31.000Z'},\n",
       " {'title': 'No prohibition in giving bank accounts to crypto traders: RBI in RTI reply',\n",
       "  'body': 'The Reserve Bank of India has said that banks are allowed to provide accounts to traders or startups who deal with cryptocurrencies like bitcoin. RBI\\'s clarification came after an RTI was filed by Harish BV, co-founder of cryptocurrency exchange company Unocoin, on April 25. \"As on date (May 22, 2020), no such prohibition exists,\" said RBI\\'s reply last week.',\n",
       "  'category': 'business',\n",
       "  'author': 'Anushka Dixit',\n",
       "  'published_date': '2020-05-26T11:41:53.000Z'},\n",
       " {'title': 'Indian cryptocurrency exchange CoinDCX raises $2.5 million funding',\n",
       "  'body': \"CoinDCX, which claims to be India's largest cryptocurrency exchange, has raised $2.5 million funding led by existing backer Polychain Capital. The investment arm of US-based crypto exchange Coinbase also participated in the round. CoinDCX was founded in 2018 by IIT Bombay alumni Sumit Gupta and Neeraj Khandelwal. In March, the Supreme Court quashed the curbs on cryptocurrency trading in India.\",\n",
       "  'category': 'business',\n",
       "  'author': 'Dharna',\n",
       "  'published_date': '2020-05-26T06:55:55.000Z'},\n",
       " {'title': \"'Ironic!': Mahindra on China evacuating its citizens from India\",\n",
       "  'body': 'After China said it will evacuate its citizens from India amid the Covid-19 pandemic, Mahindra Group Chairman Anand Mahindra tweeted, \"I have never seen a better occasion to apply the adjective \\'Ironic!\\'\". A notice by the Chinese embassy in India said those willing to return home should register by May 27. The evacuees will have to pay for the tickets.',\n",
       "  'category': 'business',\n",
       "  'author': 'Krishna Veera Vanamali',\n",
       "  'published_date': '2020-05-26T04:22:30.000Z'},\n",
       " {'title': 'Reliance plans overseas IPO of Facebook-backed Jio in 12-24 months: Report',\n",
       "  'body': \"Mukesh Ambani-led Reliance Industries is planning an overseas IPO of Jio Platforms in the next 12-24 months but the size hasn't been disclosed, Bloomberg reported. Jio received over $10 billion investment in a month from Facebook, Silver Lake Partners, General Atlantic and KKR. Notably, Ambani had considered taking Jio public in 2017 after investing nearly $31 billion in the carrier. \\n\",\n",
       "  'category': 'business',\n",
       "  'author': 'Anushka Dixit',\n",
       "  'published_date': '2020-05-26T14:14:01.000Z'},\n",
       " {'title': 'India is facing its worst recession in 2020-21: CRISIL',\n",
       "  'body': 'Ratings agency CRISIL has said that India\\'s fourth recession since independence, the first since liberalisation, and the worst to date, is here. The agency predicted that the economy will shrink by 5% in 2020-21 due to coronavirus lockdown and the April-June quarter GDP will contract 25%. \"About 10% of GDP in real terms could be permanently lost,\" CRISIL added.',\n",
       "  'category': 'business',\n",
       "  'author': 'Kiran Khatri',\n",
       "  'published_date': '2020-05-26T16:46:04.000Z'},\n",
       " {'title': \"Tata Steel workers in Netherlands block plant's gates to protest CEO's exit\",\n",
       "  'body': \"Around 100 Tata Steel workers blocked the premises of the Ijmuiden plant in the Netherlands with trucks to protest its CEO Theo Henrar's exit from the company last week. The company's spokesperson said that work had not been affected due to the strike. Henrar left the firm after 33 years over an alleged case of dismissal, Tata's works council said.\",\n",
       "  'category': 'business',\n",
       "  'author': 'Anushka Dixit',\n",
       "  'published_date': '2020-05-26T12:17:03.000Z'},\n",
       " {'title': 'India plans to store cheap oil in the US as local storage is full',\n",
       "  'body': 'Oil Minister Dharmendra Pradhan said India is looking at storing some low priced US oil in facilities there as the local storage is full. Pradhan added India had already filled its 5.33 million tonnes of strategic storage. Last month, Australia said it would build an emergency oil stockpile, initially by buying crude to store in the US Strategic Petroleum Reserve.',\n",
       "  'category': 'business',\n",
       "  'author': 'Krishna Veera Vanamali',\n",
       "  'published_date': '2020-05-26T04:19:43.000Z'},\n",
       " {'title': \"Latin America's largest airline files for bankruptcy\",\n",
       "  'body': \"LATAM Airlines Group, Latin America's largest carrier, on Tuesday said the company and its affiliates in Chile, Peru, Colombia, Ecuador and the US have filed for bankruptcy protection in the US. The Chilean airline said it will continue to fly while it seeks to restructure its debt. This comes two weeks after Latin America's second-largest airline Avianca filed for bankruptcy.\",\n",
       "  'category': 'business',\n",
       "  'author': 'Krishna Veera Vanamali',\n",
       "  'published_date': '2020-05-26T08:27:01.000Z'},\n",
       " {'title': \"Macau's gambling tycoon Stanley Ho, known as 'King of Gambling', dies at 98\",\n",
       "  'body': \"Stanley Ho, a former kerosene trader who built a casino empire in Macau, has died at age 98, members of his family said on Tuesday. Known as the 'King of Gambling', his Hong Kong-based SJM Holdings Limited helped Macau overtake Las Vegas as the world's gambling capital. SJM now controls 20 casinos on the island of over 25 square kilometres.\",\n",
       "  'category': 'business',\n",
       "  'author': 'Pragya Swastik',\n",
       "  'published_date': '2020-05-26T08:51:12.000Z'},\n",
       " {'title': 'Prices of N-95 masks down by up to 47% after intervention: Govt',\n",
       "  'body': 'The Ministry of Chemicals and Fertilisers has said that leading manufacturers and importers of N-95 masks have reduced prices by up to 47% after the National Pharmaceutical Pricing Authority (NPPA) intervened. The NPPA issued an advisory to ensure the availability of masks at affordable prices in India. Earlier, N-95 masks were being sold in the market for ₹150-300 per unit. ',\n",
       "  'category': 'business',\n",
       "  'author': 'Kiran Khatri',\n",
       "  'published_date': '2020-05-26T11:54:28.000Z'},\n",
       " {'title': 'IDFC First Bank CEO takes 30% pay cut, senior management to take 10% cut',\n",
       "  'body': \"IDFC First Bank's CEO has offered to take a 30% cut in his compensation while the senior management has volunteered to take a 10% pay cut for 2020-21. The bank said it had given full variable pay to 78.2% employees for FY20 despite the COVID-19 crisis. IDFC added it honoured job offers made to new hires before the pandemic hit. \\n\",\n",
       "  'category': 'business',\n",
       "  'author': 'Anushka Dixit',\n",
       "  'published_date': '2020-05-25T16:02:57.000Z'},\n",
       " {'title': 'Foreign investment, tech welcome even as India becomes self-reliant: IT Minister',\n",
       "  'body': \"IT Minister Ravi Shankar Prasad has said that foreign direct investment and technology are welcome as India moves to become self-reliant. He clarified that even though PM Modi has been promoting the use of local products, it doesn't mean India will isolate itself from the world. Prasad also called for innovations in artificial intelligence to help tackle the COVID-19 pandemic.\",\n",
       "  'category': 'business',\n",
       "  'author': 'Anushka Dixit',\n",
       "  'published_date': '2020-05-26T09:35:13.000Z'},\n",
       " {'title': 'US tech executives sold company stock worth over $3.6 bn in May',\n",
       "  'body': 'Executives from US tech companies have collectively sold company shares worth $3.6 billion in May alone, as per SEC filings. Mastercard CEO Ajay Banga sold company shares worth $23.4 million while Netflix CEO Reed Hastings sold over 50,000 shares for $23.9 million. Maximum shares were sold by shareholder of solar energy company Enphase Energy, selling 13,548,476 shares for $819.6 million. ',\n",
       "  'category': 'business',\n",
       "  'author': 'Anushka Dixit',\n",
       "  'published_date': '2020-05-25T17:41:05.000Z'},\n",
       " {'title': \"Tencent to be Japan's Marvelous' largest shareholder after buying 20% stake\",\n",
       "  'body': \"Tencent Holdings is buying a 20% stake in Japan's video-game maker Marvelous and will become its largest shareholder. It will spend around $65 million acquiring shares from Marvelous and its largest shareholders, Amuse Capital and its chief executive Hayao Nakayama. Marvelous will sell 8.62 million new shares while Amuse Capital and Hayao will sell 2.83 million and 708,600 shares respectively.\",\n",
       "  'category': 'business',\n",
       "  'author': 'Aishwarya',\n",
       "  'published_date': '2020-05-26T12:16:21.000Z'},\n",
       " {'title': \"Facebook renames cryptocurrency Libra's digital wallet 'Calibra' to 'Novi'\",\n",
       "  'body': \"Facebook has renamed and rebranded 'Calibra', its digital wallet for Libra, to 'Novi' that will help people send and hold Libra digital currencies. Users will be able to use Novi as a stand-alone app, as well as in Messenger and WhatsApp. All Novi customers will be verified using government-issued ID, and fraud protections will be built in throughout the app.\",\n",
       "  'category': 'business',\n",
       "  'author': 'Aishwarya',\n",
       "  'published_date': '2020-05-26T17:25:30.000Z'},\n",
       " {'title': 'Hyundai resumes operations in 806 sales outlets across India',\n",
       "  'body': 'Hyundai Motor India has resumed operations in 806 dealerships and rural sales outlets while 863 workshops have serviced 1 lakh vehicles in 530 cities in May so far. The company said that it has got nearly 9,000 car bookings and has delivered over 5,600 vehicles across India in 22 days. Hyundai opened its Sriperumbudur plant near Chennai on May 8.\\n',\n",
       "  'category': 'business',\n",
       "  'author': 'Anushka Dixit',\n",
       "  'published_date': '2020-05-26T13:19:26.000Z'},\n",
       " {'title': 'Aston Martin CEO Andy Palmer steps down, Mercedes CEO to take over',\n",
       "  'body': \"Aston Martin has announced that its CEO Andy Palmer stepped down on Monday and will be replaced by CEO of Mercedes-AMG Tobias Moers on August 1. VP Keith Stanton will serve as the interim CEO until Moers takes over. The leadership change comes after a 98% fall in Aston Martin's share price since it got listed on the stock market. \",\n",
       "  'category': 'business',\n",
       "  'author': 'Anushka Dixit',\n",
       "  'published_date': '2020-05-26T09:08:40.000Z'},\n",
       " {'title': 'Vedanta seeks shareholders approval for delisting company from NSE, BSE',\n",
       "  'body': \"Billionaire Anil Agarwal-led Vedanta has started the process of getting approval from shareholders for delisting the company from NSE and BSE. Shareholders will be given time till June 24 to cast their votes, after which they cannot be changed. For Vedanta to be delisted successfully, the promoter's stake in the company will have to go up to 90%. \",\n",
       "  'category': 'business',\n",
       "  'author': 'Anushka Dixit',\n",
       "  'published_date': '2020-05-26T16:39:50.000Z'},\n",
       " {'title': 'Bharti Telecom sells 2.75% stake in Airtel, raises ₹8,433 cr',\n",
       "  'body': 'Bharti Telecom has sold 2.75% stake in Airtel to institutional investors in secondary market, raising over ₹8,433 crore. The company said sale proceeds will be utilised to repay debt at Bharti Telecom and will make the promoter holding company \"debt free\". Bharti Group and Singtel will continue to hold a majority stake in Bharti Airtel at 56.23% after the transaction.',\n",
       "  'category': 'business',\n",
       "  'author': 'Kiran Khatri',\n",
       "  'published_date': '2020-05-26T14:35:52.000Z'}]"
      ]
     },
     "execution_count": 37,
     "metadata": {},
     "output_type": "execute_result"
    }
   ],
   "source": [
    "get_articles_from_topic(\"https://inshorts.com/en/read/business\")"
   ]
  },
  {
   "cell_type": "code",
   "execution_count": 38,
   "metadata": {},
   "outputs": [],
   "source": [
    "def make_new_request():\n",
    "    urls = [\n",
    "        \"https://inshorts.com/en/read/business\",\n",
    "        \"https://inshorts.com/en/read/sports\",\n",
    "        \"https://inshorts.com/en/read/technology\",\n",
    "        \"https://inshorts.com/en/read/entertainment\"\n",
    "    ]\n",
    "\n",
    "    output = []\n",
    "    \n",
    "    for url in urls:\n",
    "        # We use .extend in order to make a flat output list.\n",
    "        output.extend(get_articles_from_topic(url))\n",
    "        \n",
    "    df = pd.DataFrame(output)\n",
    "    df.to_csv('inshorts_news_articles.csv')\n",
    "    return df"
   ]
  },
  {
   "cell_type": "code",
   "execution_count": 39,
   "metadata": {},
   "outputs": [],
   "source": [
    "df = make_new_request()"
   ]
  },
  {
   "cell_type": "code",
   "execution_count": 40,
   "metadata": {},
   "outputs": [
    {
     "data": {
      "text/html": [
       "<div>\n",
       "<style scoped>\n",
       "    .dataframe tbody tr th:only-of-type {\n",
       "        vertical-align: middle;\n",
       "    }\n",
       "\n",
       "    .dataframe tbody tr th {\n",
       "        vertical-align: top;\n",
       "    }\n",
       "\n",
       "    .dataframe thead th {\n",
       "        text-align: right;\n",
       "    }\n",
       "</style>\n",
       "<table border=\"1\" class=\"dataframe\">\n",
       "  <thead>\n",
       "    <tr style=\"text-align: right;\">\n",
       "      <th></th>\n",
       "      <th>title</th>\n",
       "      <th>body</th>\n",
       "      <th>category</th>\n",
       "      <th>author</th>\n",
       "      <th>published_date</th>\n",
       "    </tr>\n",
       "  </thead>\n",
       "  <tbody>\n",
       "    <tr>\n",
       "      <th>0</th>\n",
       "      <td>India's economic growth seen at 1.2% in Q4 FY2...</td>\n",
       "      <td>India's economy is estimated to have grown at ...</td>\n",
       "      <td>business</td>\n",
       "      <td>Dharna</td>\n",
       "      <td>2020-05-26T12:41:03.000Z</td>\n",
       "    </tr>\n",
       "    <tr>\n",
       "      <th>1</th>\n",
       "      <td>Glenmark to start clinical trial to test poten...</td>\n",
       "      <td>Glenmark Pharmaceuticals on Tuesday said it wi...</td>\n",
       "      <td>business</td>\n",
       "      <td>Krishna Veera Vanamali</td>\n",
       "      <td>2020-05-26T11:22:33.000Z</td>\n",
       "    </tr>\n",
       "    <tr>\n",
       "      <th>2</th>\n",
       "      <td>Uber India fires 600 employees reducing 25% of...</td>\n",
       "      <td>Uber is firing 600 employees in India, or 25% ...</td>\n",
       "      <td>business</td>\n",
       "      <td>Dharna</td>\n",
       "      <td>2020-05-26T03:35:41.000Z</td>\n",
       "    </tr>\n",
       "    <tr>\n",
       "      <th>3</th>\n",
       "      <td>TVS Motor cuts employees' salaries by up to 20...</td>\n",
       "      <td>TVS Motor Company has said it is cutting the s...</td>\n",
       "      <td>business</td>\n",
       "      <td>Dharna</td>\n",
       "      <td>2020-05-26T06:55:05.000Z</td>\n",
       "    </tr>\n",
       "    <tr>\n",
       "      <th>4</th>\n",
       "      <td>Firm whose stock surged 1000% in 2020 starts h...</td>\n",
       "      <td>US biotech company Novavax said it has started...</td>\n",
       "      <td>business</td>\n",
       "      <td>Krishna Veera Vanamali</td>\n",
       "      <td>2020-05-26T10:17:41.000Z</td>\n",
       "    </tr>\n",
       "    <tr>\n",
       "      <th>...</th>\n",
       "      <td>...</td>\n",
       "      <td>...</td>\n",
       "      <td>...</td>\n",
       "      <td>...</td>\n",
       "      <td>...</td>\n",
       "    </tr>\n",
       "    <tr>\n",
       "      <th>94</th>\n",
       "      <td>Had bragged about cooking skills to impress in...</td>\n",
       "      <td>Ranveer Singh has revealed he had bragged abou...</td>\n",
       "      <td>entertainment</td>\n",
       "      <td>Vidushi Mishra</td>\n",
       "      <td>2020-05-26T11:40:58.000Z</td>\n",
       "    </tr>\n",
       "    <tr>\n",
       "      <th>95</th>\n",
       "      <td>Manish's birthday gift made my day and my year...</td>\n",
       "      <td>Karan Johar on Tuesday took to Instagram to th...</td>\n",
       "      <td>entertainment</td>\n",
       "      <td>Vidushi Mishra</td>\n",
       "      <td>2020-05-26T11:53:32.000Z</td>\n",
       "    </tr>\n",
       "    <tr>\n",
       "      <th>96</th>\n",
       "      <td>I didn't like it: Pamela on Priyanka and Dwayn...</td>\n",
       "      <td>Model-actress Pamela Anderson, who starred in ...</td>\n",
       "      <td>entertainment</td>\n",
       "      <td>Udit Gupta</td>\n",
       "      <td>2020-05-26T13:04:00.000Z</td>\n",
       "    </tr>\n",
       "    <tr>\n",
       "      <th>97</th>\n",
       "      <td>Arjun Bijlani's building sealed after person t...</td>\n",
       "      <td>Actor Arjun Bijlani's building was sealed afte...</td>\n",
       "      <td>entertainment</td>\n",
       "      <td>Vidushi Mishra</td>\n",
       "      <td>2020-05-26T05:09:55.000Z</td>\n",
       "    </tr>\n",
       "    <tr>\n",
       "      <th>98</th>\n",
       "      <td>Himansh flies to Delhi, says 'Booked 2 seats t...</td>\n",
       "      <td>Actor Himansh Kohli has revealed that he flew ...</td>\n",
       "      <td>entertainment</td>\n",
       "      <td>Udit Gupta</td>\n",
       "      <td>2020-05-26T17:11:47.000Z</td>\n",
       "    </tr>\n",
       "  </tbody>\n",
       "</table>\n",
       "<p>99 rows × 5 columns</p>\n",
       "</div>"
      ],
      "text/plain": [
       "                                                title  \\\n",
       "0   India's economic growth seen at 1.2% in Q4 FY2...   \n",
       "1   Glenmark to start clinical trial to test poten...   \n",
       "2   Uber India fires 600 employees reducing 25% of...   \n",
       "3   TVS Motor cuts employees' salaries by up to 20...   \n",
       "4   Firm whose stock surged 1000% in 2020 starts h...   \n",
       "..                                                ...   \n",
       "94  Had bragged about cooking skills to impress in...   \n",
       "95  Manish's birthday gift made my day and my year...   \n",
       "96  I didn't like it: Pamela on Priyanka and Dwayn...   \n",
       "97  Arjun Bijlani's building sealed after person t...   \n",
       "98  Himansh flies to Delhi, says 'Booked 2 seats t...   \n",
       "\n",
       "                                                 body       category  \\\n",
       "0   India's economy is estimated to have grown at ...       business   \n",
       "1   Glenmark Pharmaceuticals on Tuesday said it wi...       business   \n",
       "2   Uber is firing 600 employees in India, or 25% ...       business   \n",
       "3   TVS Motor Company has said it is cutting the s...       business   \n",
       "4   US biotech company Novavax said it has started...       business   \n",
       "..                                                ...            ...   \n",
       "94  Ranveer Singh has revealed he had bragged abou...  entertainment   \n",
       "95  Karan Johar on Tuesday took to Instagram to th...  entertainment   \n",
       "96  Model-actress Pamela Anderson, who starred in ...  entertainment   \n",
       "97  Actor Arjun Bijlani's building was sealed afte...  entertainment   \n",
       "98  Actor Himansh Kohli has revealed that he flew ...  entertainment   \n",
       "\n",
       "                    author            published_date  \n",
       "0                   Dharna  2020-05-26T12:41:03.000Z  \n",
       "1   Krishna Veera Vanamali  2020-05-26T11:22:33.000Z  \n",
       "2                   Dharna  2020-05-26T03:35:41.000Z  \n",
       "3                   Dharna  2020-05-26T06:55:05.000Z  \n",
       "4   Krishna Veera Vanamali  2020-05-26T10:17:41.000Z  \n",
       "..                     ...                       ...  \n",
       "94          Vidushi Mishra  2020-05-26T11:40:58.000Z  \n",
       "95          Vidushi Mishra  2020-05-26T11:53:32.000Z  \n",
       "96              Udit Gupta  2020-05-26T13:04:00.000Z  \n",
       "97          Vidushi Mishra  2020-05-26T05:09:55.000Z  \n",
       "98              Udit Gupta  2020-05-26T17:11:47.000Z  \n",
       "\n",
       "[99 rows x 5 columns]"
      ]
     },
     "execution_count": 40,
     "metadata": {},
     "output_type": "execute_result"
    }
   ],
   "source": [
    "df"
   ]
  },
  {
   "cell_type": "code",
   "execution_count": 41,
   "metadata": {},
   "outputs": [],
   "source": [
    "def get_news_articles():\n",
    "    filename = 'inshorts_news_articles.csv'\n",
    "\n",
    "    # checks if file exists if not make a new request and creates\n",
    "    if os.path.exists(filename):\n",
    "        return pd.read_csv(filename)\n",
    "    else:\n",
    "        return make_new_request()"
   ]
  },
  {
   "cell_type": "code",
   "execution_count": 42,
   "metadata": {},
   "outputs": [
    {
     "data": {
      "text/html": [
       "<div>\n",
       "<style scoped>\n",
       "    .dataframe tbody tr th:only-of-type {\n",
       "        vertical-align: middle;\n",
       "    }\n",
       "\n",
       "    .dataframe tbody tr th {\n",
       "        vertical-align: top;\n",
       "    }\n",
       "\n",
       "    .dataframe thead th {\n",
       "        text-align: right;\n",
       "    }\n",
       "</style>\n",
       "<table border=\"1\" class=\"dataframe\">\n",
       "  <thead>\n",
       "    <tr style=\"text-align: right;\">\n",
       "      <th></th>\n",
       "      <th>Unnamed: 0</th>\n",
       "      <th>title</th>\n",
       "      <th>body</th>\n",
       "      <th>category</th>\n",
       "      <th>author</th>\n",
       "      <th>published_date</th>\n",
       "    </tr>\n",
       "  </thead>\n",
       "  <tbody>\n",
       "    <tr>\n",
       "      <th>0</th>\n",
       "      <td>0</td>\n",
       "      <td>India's economic growth seen at 1.2% in Q4 FY2...</td>\n",
       "      <td>India's economy is estimated to have grown at ...</td>\n",
       "      <td>business</td>\n",
       "      <td>Dharna</td>\n",
       "      <td>2020-05-26T12:41:03.000Z</td>\n",
       "    </tr>\n",
       "    <tr>\n",
       "      <th>1</th>\n",
       "      <td>1</td>\n",
       "      <td>Glenmark to start clinical trial to test poten...</td>\n",
       "      <td>Glenmark Pharmaceuticals on Tuesday said it wi...</td>\n",
       "      <td>business</td>\n",
       "      <td>Krishna Veera Vanamali</td>\n",
       "      <td>2020-05-26T11:22:33.000Z</td>\n",
       "    </tr>\n",
       "    <tr>\n",
       "      <th>2</th>\n",
       "      <td>2</td>\n",
       "      <td>Uber India fires 600 employees reducing 25% of...</td>\n",
       "      <td>Uber is firing 600 employees in India, or 25% ...</td>\n",
       "      <td>business</td>\n",
       "      <td>Dharna</td>\n",
       "      <td>2020-05-26T03:35:41.000Z</td>\n",
       "    </tr>\n",
       "    <tr>\n",
       "      <th>3</th>\n",
       "      <td>3</td>\n",
       "      <td>TVS Motor cuts employees' salaries by up to 20...</td>\n",
       "      <td>TVS Motor Company has said it is cutting the s...</td>\n",
       "      <td>business</td>\n",
       "      <td>Dharna</td>\n",
       "      <td>2020-05-26T06:55:05.000Z</td>\n",
       "    </tr>\n",
       "    <tr>\n",
       "      <th>4</th>\n",
       "      <td>4</td>\n",
       "      <td>Firm whose stock surged 1000% in 2020 starts h...</td>\n",
       "      <td>US biotech company Novavax said it has started...</td>\n",
       "      <td>business</td>\n",
       "      <td>Krishna Veera Vanamali</td>\n",
       "      <td>2020-05-26T10:17:41.000Z</td>\n",
       "    </tr>\n",
       "    <tr>\n",
       "      <th>...</th>\n",
       "      <td>...</td>\n",
       "      <td>...</td>\n",
       "      <td>...</td>\n",
       "      <td>...</td>\n",
       "      <td>...</td>\n",
       "      <td>...</td>\n",
       "    </tr>\n",
       "    <tr>\n",
       "      <th>94</th>\n",
       "      <td>94</td>\n",
       "      <td>Had bragged about cooking skills to impress in...</td>\n",
       "      <td>Ranveer Singh has revealed he had bragged abou...</td>\n",
       "      <td>entertainment</td>\n",
       "      <td>Vidushi Mishra</td>\n",
       "      <td>2020-05-26T11:40:58.000Z</td>\n",
       "    </tr>\n",
       "    <tr>\n",
       "      <th>95</th>\n",
       "      <td>95</td>\n",
       "      <td>Manish's birthday gift made my day and my year...</td>\n",
       "      <td>Karan Johar on Tuesday took to Instagram to th...</td>\n",
       "      <td>entertainment</td>\n",
       "      <td>Vidushi Mishra</td>\n",
       "      <td>2020-05-26T11:53:32.000Z</td>\n",
       "    </tr>\n",
       "    <tr>\n",
       "      <th>96</th>\n",
       "      <td>96</td>\n",
       "      <td>I didn't like it: Pamela on Priyanka and Dwayn...</td>\n",
       "      <td>Model-actress Pamela Anderson, who starred in ...</td>\n",
       "      <td>entertainment</td>\n",
       "      <td>Udit Gupta</td>\n",
       "      <td>2020-05-26T13:04:00.000Z</td>\n",
       "    </tr>\n",
       "    <tr>\n",
       "      <th>97</th>\n",
       "      <td>97</td>\n",
       "      <td>Arjun Bijlani's building sealed after person t...</td>\n",
       "      <td>Actor Arjun Bijlani's building was sealed afte...</td>\n",
       "      <td>entertainment</td>\n",
       "      <td>Vidushi Mishra</td>\n",
       "      <td>2020-05-26T05:09:55.000Z</td>\n",
       "    </tr>\n",
       "    <tr>\n",
       "      <th>98</th>\n",
       "      <td>98</td>\n",
       "      <td>Himansh flies to Delhi, says 'Booked 2 seats t...</td>\n",
       "      <td>Actor Himansh Kohli has revealed that he flew ...</td>\n",
       "      <td>entertainment</td>\n",
       "      <td>Udit Gupta</td>\n",
       "      <td>2020-05-26T17:11:47.000Z</td>\n",
       "    </tr>\n",
       "  </tbody>\n",
       "</table>\n",
       "<p>99 rows × 6 columns</p>\n",
       "</div>"
      ],
      "text/plain": [
       "    Unnamed: 0                                              title  \\\n",
       "0            0  India's economic growth seen at 1.2% in Q4 FY2...   \n",
       "1            1  Glenmark to start clinical trial to test poten...   \n",
       "2            2  Uber India fires 600 employees reducing 25% of...   \n",
       "3            3  TVS Motor cuts employees' salaries by up to 20...   \n",
       "4            4  Firm whose stock surged 1000% in 2020 starts h...   \n",
       "..         ...                                                ...   \n",
       "94          94  Had bragged about cooking skills to impress in...   \n",
       "95          95  Manish's birthday gift made my day and my year...   \n",
       "96          96  I didn't like it: Pamela on Priyanka and Dwayn...   \n",
       "97          97  Arjun Bijlani's building sealed after person t...   \n",
       "98          98  Himansh flies to Delhi, says 'Booked 2 seats t...   \n",
       "\n",
       "                                                 body       category  \\\n",
       "0   India's economy is estimated to have grown at ...       business   \n",
       "1   Glenmark Pharmaceuticals on Tuesday said it wi...       business   \n",
       "2   Uber is firing 600 employees in India, or 25% ...       business   \n",
       "3   TVS Motor Company has said it is cutting the s...       business   \n",
       "4   US biotech company Novavax said it has started...       business   \n",
       "..                                                ...            ...   \n",
       "94  Ranveer Singh has revealed he had bragged abou...  entertainment   \n",
       "95  Karan Johar on Tuesday took to Instagram to th...  entertainment   \n",
       "96  Model-actress Pamela Anderson, who starred in ...  entertainment   \n",
       "97  Actor Arjun Bijlani's building was sealed afte...  entertainment   \n",
       "98  Actor Himansh Kohli has revealed that he flew ...  entertainment   \n",
       "\n",
       "                    author            published_date  \n",
       "0                   Dharna  2020-05-26T12:41:03.000Z  \n",
       "1   Krishna Veera Vanamali  2020-05-26T11:22:33.000Z  \n",
       "2                   Dharna  2020-05-26T03:35:41.000Z  \n",
       "3                   Dharna  2020-05-26T06:55:05.000Z  \n",
       "4   Krishna Veera Vanamali  2020-05-26T10:17:41.000Z  \n",
       "..                     ...                       ...  \n",
       "94          Vidushi Mishra  2020-05-26T11:40:58.000Z  \n",
       "95          Vidushi Mishra  2020-05-26T11:53:32.000Z  \n",
       "96              Udit Gupta  2020-05-26T13:04:00.000Z  \n",
       "97          Vidushi Mishra  2020-05-26T05:09:55.000Z  \n",
       "98              Udit Gupta  2020-05-26T17:11:47.000Z  \n",
       "\n",
       "[99 rows x 6 columns]"
      ]
     },
     "execution_count": 42,
     "metadata": {},
     "output_type": "execute_result"
    }
   ],
   "source": [
    "get_news_articles()"
   ]
  },
  {
   "cell_type": "code",
   "execution_count": null,
   "metadata": {},
   "outputs": [],
   "source": []
  }
 ],
 "metadata": {
  "kernelspec": {
   "display_name": "Python 3",
   "language": "python",
   "name": "python3"
  },
  "language_info": {
   "codemirror_mode": {
    "name": "ipython",
    "version": 3
   },
   "file_extension": ".py",
   "mimetype": "text/x-python",
   "name": "python",
   "nbconvert_exporter": "python",
   "pygments_lexer": "ipython3",
   "version": "3.7.4"
  }
 },
 "nbformat": 4,
 "nbformat_minor": 4
}
